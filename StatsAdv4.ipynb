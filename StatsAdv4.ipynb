{
 "cells": [
  {
   "cell_type": "markdown",
   "id": "2aef9252-c82d-47c7-b6ff-623bd6d049ae",
   "metadata": {},
   "source": [
    "# Q1."
   ]
  },
  {
   "cell_type": "markdown",
   "id": "f0d42b10-c4e1-42e4-b8af-56e97b48b4f8",
   "metadata": {},
   "source": [
    "The main difference between a t-test and a z-test lies in the situations in which they are appropriate and the assumptions they make about the data.\n",
    "\n",
    "\n",
    "- Suppose you want to compare the average scores of two different groups of students who underwent different teaching methods. You collect data on the exam scores of each group, and since the sample size is small and the population standard deviation is unknown, you opt for a t-test.\n",
    "\n",
    "\n",
    "- Analyzing the heights of a large population of adult males, and you know the standard deviation of the population. In this case, you might use a z-test to determine if a sample of males from this population has a significantly different average height compared to the known population mean."
   ]
  },
  {
   "cell_type": "markdown",
   "id": "b0dcbe8b-5202-4dad-9e08-bd5a2e0638af",
   "metadata": {},
   "source": [
    "# Q2."
   ]
  },
  {
   "cell_type": "markdown",
   "id": "1ed5c15c-15d0-4663-b725-fc437c1be282",
   "metadata": {},
   "source": [
    "- In a one-tailed test, the critical region is located on only one side of the distribution curve.\n",
    "\n",
    "\n",
    "- In a two-tailed test, the critical region is divided between both sides of the distribution curve."
   ]
  },
  {
   "cell_type": "markdown",
   "id": "03a581a0-961c-44ad-b214-d1a45041cc65",
   "metadata": {},
   "source": [
    "# Q3."
   ]
  },
  {
   "cell_type": "markdown",
   "id": "6b76bdb8-6066-4675-afa1-0888296607cb",
   "metadata": {},
   "source": [
    "Type 1 : \n",
    "    - We reject the null hypothesis , when in reality it is True.\n",
    "    \n",
    "Type 2 :\n",
    "    - We retain the null hypothesis , when in reality it is False."
   ]
  },
  {
   "cell_type": "markdown",
   "id": "efe224e2-4ac7-488c-bcdb-0038337a235c",
   "metadata": {},
   "source": [
    "# Q4."
   ]
  },
  {
   "cell_type": "markdown",
   "id": "63b008e9-750e-494e-b7e2-39bfee5c0094",
   "metadata": {},
   "source": [
    "Describes the probability of an event based on prior knowledge of conditions that might be related to the event.\n",
    "\n",
    "- Suppose there is a rare disease that affects 1 in 10,000 people. A diagnostic test for this disease has a 99% accuracy rate for both true positives (correctly identifying a person with the disease) and true negatives (correctly identifying a person without the disease)."
   ]
  },
  {
   "cell_type": "markdown",
   "id": "52bd66b9-c7a7-4ab6-81fa-346f64251601",
   "metadata": {},
   "source": [
    "# Q5."
   ]
  },
  {
   "cell_type": "markdown",
   "id": "389c002b-216e-4c4d-8fe4-c02bea838268",
   "metadata": {},
   "source": [
    "Used to estimate the range within which a population parameter, such as the mean or proportion, is likely to fall. It provides a range of values and an associated level of confidence that the true parameter is within that range. \n",
    "\n",
    "Example : \n",
    "    - Estimate the average height of a population of students.\n",
    "    \n",
    "    \n",
    "Confidence Interval = sample mean +/- z-score*((sample std)/(math.sqrt(n)))"
   ]
  },
  {
   "cell_type": "markdown",
   "id": "3bf0a3eb-4afb-422d-8116-c48f8a228db9",
   "metadata": {},
   "source": [
    "# Q6."
   ]
  },
  {
   "cell_type": "markdown",
   "id": "66815e3e-a44f-4e66-9789-cd65593a93eb",
   "metadata": {},
   "source": [
    "- There is a rare disease that affects 1 in 10,000 people. A diagnostic test for this disease has a 99% accuracy rate for both true positives (correctly identifying a person with the disease) and true negatives (correctly identifying a person without the disease). Now, let's use Bayes's theorem to calculate the probability that a person has the disease given a positive test result.\n",
    "\n",
    "Defining Events : \n",
    "\n",
    "    A : Having the Disease\n",
    "    B : Testing positve\n",
    "    \n",
    "Calculating , we get :\n",
    "\n",
    "P(A|B) = 0.0098\n",
    "\n",
    "\n",
    "Even with a positive test result, the probability that a person actually has the disease is still relatively low ."
   ]
  },
  {
   "cell_type": "markdown",
   "id": "5df1b9cc-3bb6-4f8c-a54c-802e7946a705",
   "metadata": {},
   "source": [
    "# Q7."
   ]
  },
  {
   "cell_type": "markdown",
   "id": "d0df9102-38ba-4dfb-b826-241a842d25fe",
   "metadata": {},
   "source": [
    "Confidence Interval = 50 +/- 1.96*(5/math.sqrt(n))"
   ]
  },
  {
   "cell_type": "markdown",
   "id": "d20cf4a9-2fa0-449c-a6b2-f750e807cb59",
   "metadata": {},
   "source": [
    "# Q8."
   ]
  },
  {
   "cell_type": "markdown",
   "id": "9f128b44-81ef-488c-a7cc-1a7c10529c66",
   "metadata": {},
   "source": [
    "The margin of error (MOE) in a confidence interval is the range of values above and below the sample estimate that is likely to contain the true population parameter with a certain level of confidence. \n",
    "\n",
    "- As the sample size increases, the margin of error decreases.\n",
    "\n",
    "\n",
    "Example : \n",
    "\n",
    "    - Estimate the average height of students in a school.\n",
    "    \n",
    "- Small Sample Size(30) : \n",
    "    Sample mean = 160 cm\n",
    "    Sample std = 5 cm\n",
    "    \n",
    "- Large Sample Size(300) : \n",
    "    Sample mean = 160 cm\n",
    "    Sample std = 5 cm\n",
    "    \n",
    "Assuming Z is constant , MOE2 < MOE1 because n2 > n1."
   ]
  },
  {
   "cell_type": "markdown",
   "id": "95302d60-600a-4e0a-92d7-6a1cf2e508ff",
   "metadata": {},
   "source": [
    "# Q9."
   ]
  },
  {
   "cell_type": "markdown",
   "id": "c79b3f51-9ba1-479e-8a86-37a4ed619029",
   "metadata": {},
   "source": [
    "z = data point - population mean / population std\n",
    "\n",
    "z = 75 - 70 / 5 = 1.\n",
    "\n",
    "The value of 75 is higher than the average (mean) by one standard deviation"
   ]
  },
  {
   "cell_type": "markdown",
   "id": "20ac092a-f320-44d2-960f-6225aaedc1b5",
   "metadata": {},
   "source": [
    "# Q10."
   ]
  },
  {
   "cell_type": "markdown",
   "id": "6baafd67-721b-4363-b45a-5e8567fbe9b8",
   "metadata": {},
   "source": [
    "Null Hypotheses : \n",
    "    - The mean weight loss is equal to zero \n",
    "    \n",
    "Alternate Hypotheses : \n",
    "    - The mean weight loss is different from zero.\n",
    "    \n",
    "    \n",
    "Significance level is 0.05\n",
    "\n",
    "t = sample mean - hypothesized population mean / ((sample std)/math.sqrt(sample size))\n",
    "\n",
    "The calculated t-statistic is greater than  critical region, reject the null hypothesis."
   ]
  },
  {
   "cell_type": "markdown",
   "id": "2ad85800-f7d0-4eef-a44d-2ce08db9423f",
   "metadata": {},
   "source": [
    "# Q11."
   ]
  },
  {
   "cell_type": "code",
   "execution_count": 1,
   "id": "2a65eb6c-1eb5-40fa-b471-ff1ef09f96c7",
   "metadata": {},
   "outputs": [
    {
     "name": "stdout",
     "output_type": "stream",
     "text": [
      "95% Confidence Interval: [0.6082, 0.6918]\n"
     ]
    }
   ],
   "source": [
    "import math\n",
    "\n",
    "sample_proportion = 0.65\n",
    "confidence_level = 0.95\n",
    "sample_size = 500\n",
    "\n",
    "standard_error = math.sqrt((sample_proportion * (1 - sample_proportion)) / sample_size)\n",
    "\n",
    "margin_of_error = 1.96 * standard_error \n",
    "\n",
    "confidence_interval_lower = sample_proportion - margin_of_error\n",
    "confidence_interval_upper = sample_proportion + margin_of_error\n",
    "\n",
    "print(f\"95% Confidence Interval: [{confidence_interval_lower:.4f}, {confidence_interval_upper:.4f}]\")"
   ]
  },
  {
   "cell_type": "markdown",
   "id": "960b5ac8-1604-437e-ac66-4c09be63d426",
   "metadata": {},
   "source": [
    "# Q12."
   ]
  },
  {
   "cell_type": "markdown",
   "id": "f1b2104b-14c1-439a-9a2f-00868c3d911e",
   "metadata": {},
   "source": [
    "Null hypotheses : \n",
    "    - No difference in the means of two teaching methods.\n",
    "    - there is a difference in the means of two teaching methods.\n",
    "    \n",
    "- Significance level is 0.01\n",
    "\n",
    "Cannot calculate the exact t-value because sample sizes aren't given."
   ]
  },
  {
   "cell_type": "markdown",
   "id": "98ac13bb-2f00-4859-9515-8075b8157edb",
   "metadata": {},
   "source": [
    "# Q13."
   ]
  },
  {
   "cell_type": "markdown",
   "id": "5428425e-2cd8-4c28-8107-c9d0d5ba554b",
   "metadata": {},
   "source": [
    "approx 63.129 to 66.871"
   ]
  },
  {
   "cell_type": "markdown",
   "id": "d6a6557a-e965-49bc-a01b-b040fca309e5",
   "metadata": {},
   "source": [
    "# Q14."
   ]
  },
  {
   "cell_type": "markdown",
   "id": "0b11b639-4ce7-4c27-a040-bf74492d05db",
   "metadata": {},
   "source": [
    "Without a specific value for the hypothesized population mean, I cannot provide the exact critical values or the test statistic."
   ]
  }
 ],
 "metadata": {
  "kernelspec": {
   "display_name": "Python 3 (ipykernel)",
   "language": "python",
   "name": "python3"
  },
  "language_info": {
   "codemirror_mode": {
    "name": "ipython",
    "version": 3
   },
   "file_extension": ".py",
   "mimetype": "text/x-python",
   "name": "python",
   "nbconvert_exporter": "python",
   "pygments_lexer": "ipython3",
   "version": "3.10.8"
  }
 },
 "nbformat": 4,
 "nbformat_minor": 5
}
